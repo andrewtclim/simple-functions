{
 "cells": [
  {
   "cell_type": "markdown",
   "id": "b68b5d25",
   "metadata": {},
   "source": [
    "#### Atm Bill Dispenser Function \n",
    "\n",
    "- This function figures out the best way to dispense a certain amount of cash, given the bills it has, and to inform if the withdrawal can't be made due to insufficient funds.\n",
    "- It takes two inputs the amount to dispense and the available bills in the atm\n",
    "- It will return the desired bills or an insufficent funds error "
   ]
  },
  {
   "cell_type": "code",
   "execution_count": 1,
   "id": "35cedd55",
   "metadata": {},
   "outputs": [],
   "source": [
    "def atm_dispense(amount, available_bills):\n",
    "    \n",
    "    # initalize hash map \n",
    "    bills_returned = {500: 0, 100: 0, 50: 0, 25: 0, 10: 0, 5: 0, 1: 0}\n",
    "    \n",
    "    # iterate over each bill denomination.\n",
    "    for bill in bills_returned:\n",
    "        \n",
    "        # calculate the num of bills of denomination required\n",
    "        bills_required = amount // bill\n",
    "        \n",
    "        # determine the number of bills to use based on availability\n",
    "        bills_used = min(bills_required, available_bills[bill])\n",
    "        \n",
    "        # populate hashmap with bills used\n",
    "        bills_returned[bill] = bills_used\n",
    "        \n",
    "        # update amount \n",
    "        amount -= bill * bills_used\n",
    "    \n",
    "    # check if ATM has sufficient funds\n",
    "    if amount > 0: \n",
    "        return f\"Atm has insufficent funds for withdrawal. This atm does not have the additional {amount} required\"\n",
    "    \n",
    "    return bills_returned\n",
    "        \n",
    "        "
   ]
  },
  {
   "cell_type": "code",
   "execution_count": 2,
   "id": "da4c359d",
   "metadata": {},
   "outputs": [
    {
     "data": {
      "text/plain": [
       "{500: 0, 100: 0, 50: 3, 25: 0, 10: 0, 5: 2, 1: 3}"
      ]
     },
     "execution_count": 2,
     "metadata": {},
     "output_type": "execute_result"
    }
   ],
   "source": [
    "# test case\n",
    "atm_dispense(163, {\n",
    "        500: 1,\n",
    "        100: 0,\n",
    "        50: 10,\n",
    "        25: 10,\n",
    "        10: 0,\n",
    "        5: 10,\n",
    "        1: 10\n",
    "    })"
   ]
  },
  {
   "cell_type": "code",
   "execution_count": 3,
   "id": "a06ba41b",
   "metadata": {},
   "outputs": [
    {
     "data": {
      "text/plain": [
       "'Atm has insufficent funds for withdrawal. This atm does not have the additional 8690 required'"
      ]
     },
     "execution_count": 3,
     "metadata": {},
     "output_type": "execute_result"
    }
   ],
   "source": [
    "atm_dispense(10000, {\n",
    "        500: 1,\n",
    "        100: 0,\n",
    "        50: 10,\n",
    "        25: 10,\n",
    "        10: 0,\n",
    "        5: 10,\n",
    "        1: 10\n",
    "    })"
   ]
  },
  {
   "cell_type": "code",
   "execution_count": 5,
   "id": "163811c6",
   "metadata": {},
   "outputs": [
    {
     "data": {
      "text/plain": [
       "163"
      ]
     },
     "execution_count": 5,
     "metadata": {},
     "output_type": "execute_result"
    }
   ],
   "source": [
    "(50 * 3) + (5 * 2) + (1* 3)"
   ]
  },
  {
   "cell_type": "code",
   "execution_count": null,
   "id": "709e589f",
   "metadata": {},
   "outputs": [],
   "source": []
  }
 ],
 "metadata": {
  "kernelspec": {
   "display_name": "Python 3 (ipykernel)",
   "language": "python",
   "name": "python3"
  },
  "language_info": {
   "codemirror_mode": {
    "name": "ipython",
    "version": 3
   },
   "file_extension": ".py",
   "mimetype": "text/x-python",
   "name": "python",
   "nbconvert_exporter": "python",
   "pygments_lexer": "ipython3",
   "version": "3.11.5"
  }
 },
 "nbformat": 4,
 "nbformat_minor": 5
}
